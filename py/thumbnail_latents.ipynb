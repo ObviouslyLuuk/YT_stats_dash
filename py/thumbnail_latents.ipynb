{
 "cells": [
  {
   "cell_type": "code",
   "execution_count": null,
   "metadata": {},
   "outputs": [],
   "source": [
    "import os\n",
    "import json\n",
    "import torch\n",
    "\n",
    "from json import JSONDecodeError\n",
    "import numpy as np\n",
    "from tqdm import tqdm\n",
    "from PIL import Image\n",
    "# from thumbnail_repr_stats import ImageLatentRepresentationModel, load_model, get_latent_vectors\n",
    "from transformers import ViTForImageClassification, ViTFeatureExtractor\n",
    "from collections import defaultdict\n",
    "from util.constants import Topic"
   ]
  },
  {
   "cell_type": "code",
   "execution_count": null,
   "metadata": {},
   "outputs": [],
   "source": [
    "# Models\n",
    "\n",
    "class ImageLatentRepresentationModel(ViTForImageClassification):\n",
    "    \"\"\"\n",
    "    Hook into the ViTForImageClassification Class in order to get the latent\n",
    "    representations of an image, not just the classification output. Source code\n",
    "    taken from HuggingFace open-source GitHub:\n",
    "    https://github.com/huggingface/transformers/blob/main/src/transformers/models/vit/modeling_vit.py\n",
    "    \"\"\"\n",
    "\n",
    "    def __init__(self, config):\n",
    "        super().__init__(config)\n",
    "\n",
    "    def forward(self, pixel_values):\n",
    "        \"\"\"\n",
    "        Overwritten forward method to only get latent representation of the image,\n",
    "        without image classification.\n",
    "\n",
    "        args:\n",
    "            - pixel_values: input image, as PyTorch Tensor of shape [1,3,224,224] \n",
    "        \n",
    "        returns:\n",
    "            - latent_vec: latent vector representing the image\n",
    "        \"\"\"\n",
    "        vit_output = self.vit(pixel_values)\n",
    "        latent_vec = vit_output[0][:,0,:]\n",
    "\n",
    "        return latent_vec"
   ]
  },
  {
   "cell_type": "markdown",
   "metadata": {},
   "source": [
    "Get latents for all videos"
   ]
  },
  {
   "cell_type": "code",
   "execution_count": null,
   "metadata": {},
   "outputs": [],
   "source": [
    "# Read data\n",
    "videos = []\n",
    "for cat in Topic._member_names_:\n",
    "    with open(os.path.join(\"..\", \"data\", \"info_videos\", F\"videos-info_{cat}.json\"), \"r\") as f:\n",
    "        videos_info = json.load(f)\n",
    "        videos.extend([vid for channel_vids in videos_info.values() for vid in channel_vids])"
   ]
  },
  {
   "cell_type": "code",
   "execution_count": null,
   "metadata": {},
   "outputs": [],
   "source": [
    "RESULTS_DIR = os.path.join(\"..\", \"data\", \"thumbnail-latents\")\n",
    "\n",
    "video_results_dir = os.path.join(RESULTS_DIR, \"videos\")\n",
    "channel_results_dir = os.path.join(RESULTS_DIR, \"channels\")\n",
    "categories_results_dir = os.path.join(RESULTS_DIR, \"categories\")\n",
    "\n",
    "if not os.path.exists(video_results_dir):\n",
    "    os.makedirs(video_results_dir)\n",
    "\n",
    "if not os.path.exists(categories_results_dir):\n",
    "    os.makedirs(categories_results_dir)\n",
    "\n",
    "def get_done_list(dir):\n",
    "    return [nm.replace(\".json\",'') for nm in os.listdir(dir)]"
   ]
  },
  {
   "cell_type": "code",
   "execution_count": null,
   "metadata": {},
   "outputs": [],
   "source": [
    "def load_model(device, install=True):\n",
    "    \"\"\"\n",
    "    Loads in a pre-trained ViT model for latent image representation\n",
    "\n",
    "    args:\n",
    "        - device: what device the model should be on\n",
    "    returns:\n",
    "        - model: pre-trained ViT model\n",
    "        - feature_extractor: pre-trained feature extractor for processing images\n",
    "    \"\"\"\n",
    "    if install:\n",
    "        print(\"Installing ViT architecture... This may take a couple of minutes.\")\n",
    "        os.system(\"pip install -q git+https://github.com/huggingface/transformers.git\")\n",
    "        print(\"Finished installing.\")\n",
    "\n",
    "    print(\"Loading pretrained ViT model...\")\n",
    "    model = ImageLatentRepresentationModel.from_pretrained('google/vit-base-patch16-224')\n",
    "    model.eval()\n",
    "    model.to(device)\n",
    "    print(\"Loaded model\")\n",
    "\n",
    "    feature_extractor = ViTFeatureExtractor.from_pretrained('google/vit-base-patch16-224')\n",
    "\n",
    "    return model, feature_extractor"
   ]
  },
  {
   "cell_type": "code",
   "execution_count": null,
   "metadata": {},
   "outputs": [],
   "source": [
    "def get_latent_vectors(model, ft_extr, raw_imgs, device):\n",
    "    \"\"\"\n",
    "    Function to get the latent representation of an image.\n",
    "\n",
    "    args:\n",
    "        - model: The pretrained ViT model\n",
    "        - ft_extr: The feature extractor, used to preprocess the images\n",
    "        - raw_imgs: The raw thumbnail images\n",
    "    \"\"\"\n",
    "    # Encode the images using the feature extractor\n",
    "    encodings = ft_extr(images=raw_imgs, return_tensors=\"pt\")\n",
    "    pixel_values = encodings['pixel_values'].to(device)\n",
    "#     print(f\"Size of images in memory: {pixel_values.element_size()*pixel_values.nelement()} bytes\")\n",
    "\n",
    "    # Get the latent representation by passing it through the network\n",
    "    latent_vecs = model(pixel_values)\n",
    "    del pixel_values\n",
    "    return latent_vecs"
   ]
  },
  {
   "cell_type": "code",
   "execution_count": null,
   "metadata": {},
   "outputs": [],
   "source": [
    "def generate_repr_stats(model, feature_extractor, videos_path):\n",
    "    \"\"\"\n",
    "    Function to generate all thumbnail latent representation statistics.\n",
    "\n",
    "    args:\n",
    "        - model: pre-trained ViT model\n",
    "        - feature_extractor: pre-trained feature extractor for processing images\n",
    "        - videos_path: path to the thumbnail that we want to load\n",
    "    \"\"\"\n",
    "\n",
    "    video_thumbnails = [Image.open(vid_path) for vid_path in videos_path]\n",
    "    latents = get_latent_vectors(model, feature_extractor, video_thumbnails, device)\n",
    "    latents_save = latents.detach().cpu().numpy().tolist()\n",
    "    del latents\n",
    "    return latents_save\n"
   ]
  },
  {
   "cell_type": "code",
   "execution_count": null,
   "metadata": {},
   "outputs": [],
   "source": [
    "# Run the code in batches\n",
    "batch_size = 32\n",
    "batch_num = len(videos)//batch_size\n",
    "if batch_num != int(len(videos)/batch_size):\n",
    "    batch_num += 1\n",
    "\n",
    "device = torch.device('cuda' if torch.cuda.is_available() else 'cpu')\n",
    "print(f\"Using device: {device}\\n\")\n",
    "\n",
    "model, feature_extractor = load_model(device, install=False)\n",
    "\n",
    "# done_list = get_done_list(video_results_dir)\n",
    "for batch in tqdm(range(batch_num)):\n",
    "\n",
    "    vid_batch = videos[batch*batch_size:(batch+1)*batch_size]\n",
    "    ids = [vid[\"id\"] for vid in vid_batch if os.path.isfile(\"../data/thumbnails/\"+vid[\"id\"]+\"_high.jpg\")]\n",
    "    # if id in done_list:\n",
    "    #     continue\n",
    "    imgs_paths = [\"../data/thumbnails/\"+vid_id+\"_high.jpg\" for vid_id in ids\n",
    "                  if os.path.isfile(\"../data/thumbnails/\"+vid_id+\"_high.jpg\")]\n",
    "\n",
    "    # Prevent code from crashing when not having any thumbnails available\n",
    "    if imgs_paths:\n",
    "        batch_latents = generate_repr_stats(model, feature_extractor, imgs_paths)\n",
    "\n",
    "        for vid_id, result in zip(ids, batch_latents):\n",
    "            path = os.path.join(video_results_dir, f\"{vid_id}.json\")\n",
    "            with open(path, \"w\") as f:\n",
    "                json.dump(result, f)\n",
    "\n",
    "    torch.cuda.empty_cache()"
   ]
  },
  {
   "cell_type": "markdown",
   "metadata": {},
   "source": [
    "Channel stats"
   ]
  },
  {
   "cell_type": "code",
   "execution_count": null,
   "metadata": {},
   "outputs": [],
   "source": [
    "# Read data\n",
    "with open(os.path.join(\"..\", \"data\", \"vid2channel.json\"), \"r\") as f:\n",
    "    vid2channel = json.load(f)"
   ]
  },
  {
   "cell_type": "code",
   "execution_count": null,
   "metadata": {},
   "outputs": [],
   "source": [
    "# Make list of results per video for each channel\n",
    "channel_result_list = defaultdict(list)\n",
    "for vid_id in tqdm(get_done_list(video_results_dir)):\n",
    "    channel = vid2channel[vid_id]\n",
    "    filepath = os.path.join(video_results_dir, f\"{vid_id}.json\")\n",
    "    try:\n",
    "        with open(filepath, \"r\") as f:\n",
    "            result = json.load(f)\n",
    "    except JSONDecodeError:\n",
    "        print(f\"couldn't open {vid_id}; deleting file\")\n",
    "        os.remove(filepath)\n",
    "    channel_result_list[channel].append(result)"
   ]
  },
  {
   "cell_type": "code",
   "execution_count": null,
   "metadata": {},
   "outputs": [],
   "source": [
    "# Calculate channel results\n",
    "channel_results = {}\n",
    "for channel,result_list in channel_result_list.items():\n",
    "    result_list = np.array(result_list)\n",
    "    channel_results[channel] = {\n",
    "        \"mean\": result_list.mean(axis=0).tolist(),\n",
    "        \"std\": result_list.std(),\n",
    "        \"len\": len(result_list),\n",
    "    }"
   ]
  },
  {
   "cell_type": "code",
   "execution_count": null,
   "metadata": {},
   "outputs": [],
   "source": [
    "# Save channel stats\n",
    "for channel,results in channel_results.items():\n",
    "    filepath = os.path.join(channel_results_dir, f\"{channel}.json\")\n",
    "    with open(filepath, \"w\") as f:\n",
    "        json.dump(results, f)"
   ]
  },
  {
   "cell_type": "markdown",
   "metadata": {},
   "source": [
    "Category stats"
   ]
  },
  {
   "cell_type": "code",
   "execution_count": null,
   "metadata": {},
   "outputs": [],
   "source": [
    "# Read data\n",
    "with open(os.path.join(\"..\", \"data\", \"channel2category.json\"), \"r\") as f:\n",
    "    channel2cat = json.load(f)"
   ]
  },
  {
   "cell_type": "code",
   "execution_count": null,
   "metadata": {},
   "outputs": [],
   "source": [
    "# Make list of results per channel for each category\n",
    "category_results_list = defaultdict(list)\n",
    "for channel in tqdm(get_done_list(channel_results_dir)):\n",
    "    cat = channel2cat[channel]\n",
    "    filepath = os.path.join(channel_results_dir, f\"{channel}.json\")\n",
    "    try:\n",
    "        with open(filepath, \"r\") as f:\n",
    "            results = json.load(f)\n",
    "    except JSONDecodeError:\n",
    "        print(f\"couldn't open {channel}; deleting file\")\n",
    "        os.remove(filepath)\n",
    "    category_results_list[cat].append(results)"
   ]
  },
  {
   "cell_type": "code",
   "execution_count": null,
   "metadata": {},
   "outputs": [],
   "source": [
    "# Calculate category results\n",
    "category_results = {}\n",
    "for cat,stats_list in category_results_list.items():\n",
    "    mean_list = np.array([channel_stats[\"mean\"] for channel_stats in stats_list])\n",
    "    std_list = np.array([channel_stats[\"std\"] for channel_stats in stats_list])\n",
    "    category_results[cat] = {\n",
    "        \"mean\": mean_list.mean(axis=0).tolist(),\n",
    "        \"std\": std_list.mean(),\n",
    "        \"len\": len(mean_list),\n",
    "    }"
   ]
  },
  {
   "cell_type": "code",
   "execution_count": null,
   "metadata": {},
   "outputs": [],
   "source": [
    "# Save category results\n",
    "for cat,stats in category_results.items():\n",
    "    filepath = os.path.join(RESULTS_DIR, \"categories\", f\"{cat}.json\")\n",
    "    with open(filepath, \"w\") as f:\n",
    "        json.dump(stats, f)"
   ]
  },
  {
   "cell_type": "code",
   "execution_count": null,
   "metadata": {},
   "outputs": [],
   "source": []
  }
 ],
 "metadata": {
  "kernelspec": {
   "display_name": "Python 3 (ipykernel)",
   "language": "python",
   "name": "python3"
  },
  "language_info": {
   "codemirror_mode": {
    "name": "ipython",
    "version": 3
   },
   "file_extension": ".py",
   "mimetype": "text/x-python",
   "name": "python",
   "nbconvert_exporter": "python",
   "pygments_lexer": "ipython3",
   "version": "3.7.13"
  },
  "vscode": {
   "interpreter": {
    "hash": "eea079505999d63a5e7f825b5c28310477419653690829f32f05e14e603c014b"
   }
  }
 },
 "nbformat": 4,
 "nbformat_minor": 2
}
